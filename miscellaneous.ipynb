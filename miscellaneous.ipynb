{
 "cells": [
  {
   "cell_type": "code",
   "execution_count": 1,
   "metadata": {
    "collapsed": true
   },
   "outputs": [],
   "source": [
    "import numpy as np"
   ]
  },
  {
   "cell_type": "code",
   "execution_count": 4,
   "metadata": {
    "collapsed": false
   },
   "outputs": [],
   "source": [
    "def softmax(x):\n",
    "    return np.exp(x) / np.sum(np.exp(x), axis=0)\n",
    "    pass  "
   ]
  },
  {
   "cell_type": "code",
   "execution_count": 18,
   "metadata": {
    "collapsed": false
   },
   "outputs": [
    {
     "data": {
      "image/png": "[encoded data removed]",
      "text/plain": [
       "<matplotlib.figure.Figure at 0x7e05ef0>"
      ]
     },
     "metadata": {},
     "output_type": "display_data"
    }
   ],
   "source": [
    "import matplotlib.pyplot as plt\n",
    "%matplotlib inline\n",
    "\n",
    "x = np.arange(-2.0, 6.0, 0.1)\n",
    "scores = np.vstack([x, np.ones_like(x), 0.2 * np.ones_like(x)])\n",
    "\n",
    "plt.plot(x, softmax(scores).T, linewidth=2)\n",
    "plt.legend(['x', '1', '0.2'])\n",
    "plt.show()\n"
   ]
  },
  {
   "cell_type": "code",
   "execution_count": 14,
   "metadata": {
    "collapsed": false
   },
   "outputs": [
    {
     "data": {
      "text/plain": [
       "array([   4.07501987,    4.08925321,    4.10498347,    4.12236811,\n",
       "          4.1415811 ,    4.16281475,    4.18628155,    4.21221638,\n",
       "          4.2408788 ,    4.27255567,    4.30756403,    4.34625425,\n",
       "          4.38901355,    4.43626989,    4.48849622,    4.54621525,\n",
       "          4.61000463,    4.68050281,    4.75841534,    4.844522  ,\n",
       "          4.93968459,    5.0448555 ,    5.16108734,    5.28954339,\n",
       "          5.43150928,    5.58840586,    5.76180339,    5.95343729,\n",
       "          6.16522552,    6.3992877 ,    6.65796642,    6.94385061,\n",
       "          7.25980151,    7.60898125,    7.99488455,    8.42137366,\n",
       "          8.89271701,    9.41363198,    9.98933205,   10.62557903,\n",
       "         11.32874069,   12.1058545 ,   12.96469809,   13.91386704,\n",
       "         14.96286097,   16.12217855,   17.40342262,   18.81941631,\n",
       "         20.38433136,   22.11382996,   24.02522151,   26.13763587,\n",
       "         28.47221478,   31.05232351,   33.90378463,   37.05513655,\n",
       "         40.53791903,   44.38698895,   48.64086908,   53.34213369,\n",
       "         58.53783462,   64.27997218,   70.62601563,   77.63947829,\n",
       "         85.39055325,   93.95681589,  103.42400023,  113.88685704,\n",
       "        125.45010211,  138.22946427,  152.35284369,  167.96159189,\n",
       "        185.21192646,  204.27649456,  225.34610079,  248.63161685,\n",
       "        274.36609201,  302.80708555,  334.2392445 ,  368.97715245])"
      ]
     },
     "execution_count": 14,
     "metadata": {},
     "output_type": "execute_result"
    }
   ],
   "source": [
    " np.sum(np.exp(scores), axis=0)"
   ]
  },
  {
   "cell_type": "code",
   "execution_count": 9,
   "metadata": {
    "collapsed": false
   },
   "outputs": [
    {
     "data": {
      "text/plain": [
       "(3, 80)"
      ]
     },
     "execution_count": 9,
     "metadata": {},
     "output_type": "execute_result"
    }
   ],
   "source": [
    "scores.shape"
   ]
  },
  {
   "cell_type": "code",
   "execution_count": 3,
   "metadata": {
    "collapsed": false
   },
   "outputs": [],
   "source": [
    "np.ones_like?"
   ]
  },
  {
   "cell_type": "code",
   "execution_count": 25,
   "metadata": {
    "collapsed": false
   },
   "outputs": [
    {
     "data": {
      "text/plain": [
       "0.95367431640625"
      ]
     },
     "execution_count": 25,
     "metadata": {},
     "output_type": "execute_result"
    }
   ],
   "source": [
    "initial = 10**9\n",
    "for i in range(10**6):\n",
    "    initial = initial + 10**(-6)\n",
    "initial - 10**9"
   ]
  },
  {
   "cell_type": "code",
   "execution_count": null,
   "metadata": {
    "collapsed": true
   },
   "outputs": [],
   "source": []
  }
 ],
 "metadata": {
  "anaconda-cloud": {},
  "kernelspec": {
   "display_name": "Python [Root]",
   "language": "python",
   "name": "Python [Root]"
  },
  "language_info": {
   "codemirror_mode": {
    "name": "ipython",
    "version": 3
   },
   "file_extension": ".py",
   "mimetype": "text/x-python",
   "name": "python",
   "nbconvert_exporter": "python",
   "pygments_lexer": "ipython3",
   "version": "3.5.2"
  }
 },
 "nbformat": 4,
 "nbformat_minor": 0
}
